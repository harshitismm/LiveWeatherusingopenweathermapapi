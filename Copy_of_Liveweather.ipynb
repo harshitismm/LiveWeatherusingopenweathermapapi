{
  "nbformat": 4,
  "nbformat_minor": 0,
  "metadata": {
    "colab": {
      "name": "Copy of Liveweather.ipynb",
      "provenance": [],
      "authorship_tag": "ABX9TyPW5QslHMGVQPJpopy6PkBp",
      "include_colab_link": true
    },
    "kernelspec": {
      "name": "python3",
      "display_name": "Python 3"
    }
  },
  "cells": [
    {
      "cell_type": "markdown",
      "metadata": {
        "id": "view-in-github",
        "colab_type": "text"
      },
      "source": [
        "<a href=\"https://colab.research.google.com/github/harshitismm/LiveWeatherusingopenweathermapapi/blob/harshitismm-patch-1/Copy_of_Liveweather.ipynb\" target=\"_parent\"><img src=\"https://colab.research.google.com/assets/colab-badge.svg\" alt=\"Open In Colab\"/></a>"
      ]
    },
    {
      "cell_type": "code",
      "metadata": {
        "id": "oWknKMbWPHSe",
        "colab_type": "code",
        "outputId": "25d16754-deef-48d6-c29d-55c32d3952db",
        "colab": {
          "base_uri": "https://localhost:8080/",
          "height": 102
        }
      },
      "source": [
        "# Python program to find current \n",
        "# weather details of any city \n",
        "# using openweathermap api \n",
        "\n",
        "# import required modules \n",
        "import requests, json \n",
        "\n",
        "# Enter your API key here \n",
        "api_key = \"API KEY\"\n",
        "\n",
        "# base_url variable to store url \n",
        "base_url = \"http://api.openweathermap.org/data/2.5/weather?\"\n",
        "\n",
        "# Give city name \n",
        "city_name = input(\"Enter city name : \") \n",
        "\n",
        "# complete_url variable to store \n",
        "# complete url address \n",
        "complete_url = base_url + \"appid=\" + api_key + \"&q=\" + city_name \n",
        "\n",
        "# get method of requests module \n",
        "# return response object \n",
        "response = requests.get(complete_url) \n",
        "\n",
        "# json method of response object \n",
        "# convert json format data into \n",
        "# python format data \n",
        "x = response.json() \n",
        "\n",
        "# Now x contains list of nested dictionaries \n",
        "# Check the value of \"cod\" key is equal to \n",
        "# \"404\", means city is found otherwise, \n",
        "# city is not found \n",
        "if x[\"cod\"] != \"404\": \n",
        "\n",
        "\t# store the value of \"main\" \n",
        "\t# key in variable y \n",
        "\ty = x[\"main\"] \n",
        "\n",
        "\t# store the value corresponding \n",
        "\t# to the \"temp\" key of y \n",
        "\tcurrent_temperature = y[\"temp\"] \n",
        "\n",
        "\t# store the value corresponding \n",
        "\t# to the \"pressure\" key of y \n",
        "\tcurrent_pressure = y[\"pressure\"] \n",
        "\n",
        "\t# store the value corresponding \n",
        "\t# to the \"humidity\" key of y \n",
        "\tcurrent_humidiy = y[\"humidity\"] \n",
        "\n",
        "\t# store the value of \"weather\" \n",
        "\t# key in variable z \n",
        "\tz = x[\"weather\"] \n",
        "\n",
        "\t# store the value corresponding \n",
        "\t# to the \"description\" key at \n",
        "\t# the 0th index of z \n",
        "\tweather_description = z[0][\"description\"] \n",
        "\n",
        "\t# print following values \n",
        "\tprint(\" Temperature (in Celcius unit) = \" +\n",
        "\t\t\t\t\tstr(current_temperature-273.15) +\n",
        "\t\t\"\\n atmospheric pressure (in hPa unit) = \" +\n",
        "\t\t\t\t\tstr(current_pressure) +\n",
        "\t\t\"\\n humidity (in percentage) = \" +\n",
        "\t\t\t\t\tstr(current_humidiy) +\n",
        "\t\t\"\\n description = \" +\n",
        "\t\t\t\t\tstr(weather_description)) \n",
        "\n",
        "else: \n",
        "\tprint(\" City Not Found \") \n"
      ],
      "execution_count": 0,
      "outputs": [
        {
          "output_type": "stream",
          "text": [
            "Enter city name : Agra\n",
            " Temperature (in Celcius unit) = 35.28000000000003\n",
            " atmospheric pressure (in hPa unit) = 999\n",
            " humidity (in percentage) = 30\n",
            " description = few clouds\n"
          ],
          "name": "stdout"
        }
      ]
    }
  ]
}